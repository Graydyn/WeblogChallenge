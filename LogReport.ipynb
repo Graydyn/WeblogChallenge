{
 "cells": [
  {
   "cell_type": "markdown",
   "metadata": {},
   "source": [
    "# Parsing logs with Apache Spark\n",
    "\n",
    "In this notebook we will parse a log file and answer the following questions:\n",
    "\n",
    "1. Sessionize the web log by IP. Sessionize = aggregrate all page hits by visitor/IP during a fixed time window.\n",
    "    https://en.wikipedia.org/wiki/Session_(web_analytics)\n",
    "\n",
    "2. Determine the average session time\n",
    "\n",
    "3. Determine unique URL visits per session. To clarify, count a hit to a unique URL only once per session.\n",
    "\n",
    "4. Find the most engaged users, ie the IPs with the longest session times\n",
    "\n",
    "In order to run all results below with tests, run weblog_stats.py\n",
    "\n",
    "### Setup\n",
    "\n",
    "This notebook can be run on an AWS cluster, or it can be run locally in Spark's standalone mode.  To setup Spark in standalone mode, follow the directions here:\n",
    "http://spark.apache.org/docs/latest/spark-standalone.html#spark-standalone-mode\n",
    "\n",
    "Once Spark is running (and the install directory added to your PATH), you can start a Jupyter notebook with the following command:\n",
    "\n",
    "PYSPARK_DRIVER_PYTHON=ipython PYSPARK_DRIVER_PYTHON_OPTS=\"notebook\" ./pyspark\n",
    "\n",
    "### Loading the Data\n",
    "\n",
    "Since I'm not running Spark on a Hadoop cluster, we can skip over loading the data into HDFS.  I will just load the data directly."
   ]
  },
  {
   "cell_type": "code",
   "execution_count": 1,
   "metadata": {
    "collapsed": false
   },
   "outputs": [
    {
     "name": "stdout",
     "output_type": "stream",
     "text": [
      "<pyspark.context.SparkContext object at 0x100776850>\n"
     ]
    }
   ],
   "source": [
    "print sc  #Just making sure I've got a spark context"
   ]
  },
  {
   "cell_type": "markdown",
   "metadata": {},
   "source": [
    "The fields in the file are as follows.  They are space delimited, unless the spaces are contained in quotes.\n",
    "\n",
    "'timestamp','elb','client_port','backend_port','request_processing_time','backend_processing_time',\n",
    "'response_processing_time','elb_status_code','backend_status_code','received_bytes','sent_bytes',\n",
    "'request','user_agent','ssl_cipher','ssl_protocol'\n",
    "\n",
    "First thing I'm going to do is get the data into a Pandas dataframe, as this will make my life easier."
   ]
  },
  {
   "cell_type": "code",
   "execution_count": 2,
   "metadata": {
    "collapsed": false
   },
   "outputs": [
    {
     "name": "stdout",
     "output_type": "stream",
     "text": [
      "Sanity check:\n",
      "(datetime.datetime(2015, 7, 22, 9, 0, 28, 19143), 'marketpalce-shop', '123.242.248.130', '10.0.6.158:80', 2.2e-05, 0.026109, 2e-05, 200, 200, 0, 699, '\"GET', 'https://paytm.com:443/shop/authresponse?code=f2405b05-e2ee-4b0d-8f6a-9fed0fcfe2e0&state=null')\n"
     ]
    }
   ],
   "source": [
    "import re\n",
    "from datetime import datetime\n",
    "\n",
    "def custom_split(line):\n",
    "    #fortunately, I don't care about anything past the request field, which makes the regex fairly simple\n",
    "    line_parts = re.findall(r\"[\\w\\\"\\-\\/\\.:\\?\\=\\&]+\", line) #split on both space and \"\n",
    "    timestamp = datetime.strptime(line_parts[0], '%Y-%m-%dT%H:%M:%S.%fZ')\n",
    "    elb = line_parts[1]\n",
    "    client_port = line_parts[2].split(':')[0] #using ip address as an identifier, so I feel that it makes sense to ditch the port number\n",
    "    backend_port = line_parts[3]\n",
    "    request_processing_time = float(line_parts[4])\n",
    "    backend_processing_time = float(line_parts[5])\n",
    "    response_processing_time = float(line_parts[6])\n",
    "    elb_status_code = int(line_parts[7])\n",
    "    backend_status_code = int(line_parts[8])\n",
    "    received_bytes = int(line_parts[9])\n",
    "    sent_bytes = int(line_parts[10])\n",
    "    request_type = line_parts[11]\n",
    "    request_url = line_parts[12]\n",
    "    \n",
    "    return timestamp,elb,client_port,backend_port,request_processing_time,backend_processing_time,response_processing_time,elb_status_code,backend_status_code,received_bytes,sent_bytes,request_type,request_url\n",
    "\n",
    "print \"Sanity check:\"\n",
    "print custom_split('2015-07-22T09:00:28.019143Z marketpalce-shop 123.242.248.130:54635 10.0.6.158:80 0.000022 0.026109 0.00002 200 200 0 699 \"GET https://paytm.com:443/shop/authresponse?code=f2405b05-e2ee-4b0d-8f6a-9fed0fcfe2e0&state=null HTTP/1.1\" \"Mozilla/5.0 (Windows NT 6.1; WOW64) AppleWebKit/537.36 (KHTML, like Gecko) Chrome/43.0.2357.130 Safari/537.36\" ECDHE-RSA-AES128-GCM-SHA256 TLSv1.2')\n",
    "\n",
    "dataRdd = sc.textFile('data/2015_07_22_mktplace_shop_web_log_sample.log')\n",
    "#splitRdd = dataRdd.map(lambda line: re.findall(r\"[\\w\\\"]+\", line))\n",
    "splitRdd = dataRdd.map(custom_split)"
   ]
  },
  {
   "cell_type": "code",
   "execution_count": null,
   "metadata": {
    "collapsed": false
   },
   "outputs": [],
   "source": [
    "columns = ['timestamp','elb','client_port','backend_port','request_processing_time','backend_processing_time',\n",
    "           'response_processing_time','elb_status_code','backend_status_code','received_bytes','sent_bytes',\n",
    "           'request_type', 'request_url']\n",
    "\n",
    "df = splitRdd.toDF().toPandas()\n",
    "df.columns = columns"
   ]
  },
  {
   "cell_type": "code",
   "execution_count": 47,
   "metadata": {
    "collapsed": false
   },
   "outputs": [
    {
     "data": {
      "text/html": [
       "<div>\n",
       "<table border=\"1\" class=\"dataframe\">\n",
       "  <thead>\n",
       "    <tr style=\"text-align: right;\">\n",
       "      <th></th>\n",
       "      <th>timestamp</th>\n",
       "      <th>elb</th>\n",
       "      <th>client_port</th>\n",
       "      <th>backend_port</th>\n",
       "      <th>request_processing_time</th>\n",
       "      <th>backend_processing_time</th>\n",
       "      <th>response_processing_time</th>\n",
       "      <th>elb_status_code</th>\n",
       "      <th>backend_status_code</th>\n",
       "      <th>received_bytes</th>\n",
       "      <th>sent_bytes</th>\n",
       "      <th>request_type</th>\n",
       "      <th>request_url</th>\n",
       "      <th>session_id</th>\n",
       "    </tr>\n",
       "  </thead>\n",
       "  <tbody>\n",
       "    <tr>\n",
       "      <th>0</th>\n",
       "      <td>2015-07-22 09:00:28.019143</td>\n",
       "      <td>marketpalce-shop</td>\n",
       "      <td>123.242.248.130</td>\n",
       "      <td>10.0.6.158:80</td>\n",
       "      <td>0.000022</td>\n",
       "      <td>0.026109</td>\n",
       "      <td>0.000020</td>\n",
       "      <td>200</td>\n",
       "      <td>200</td>\n",
       "      <td>0</td>\n",
       "      <td>699</td>\n",
       "      <td>\"GET</td>\n",
       "      <td>https://paytm.com:443/shop/authresponse?code=f...</td>\n",
       "      <td>0</td>\n",
       "    </tr>\n",
       "    <tr>\n",
       "      <th>1</th>\n",
       "      <td>2015-07-22 09:00:27.894580</td>\n",
       "      <td>marketpalce-shop</td>\n",
       "      <td>203.91.211.44</td>\n",
       "      <td>10.0.4.150:80</td>\n",
       "      <td>0.000024</td>\n",
       "      <td>0.153340</td>\n",
       "      <td>0.000026</td>\n",
       "      <td>200</td>\n",
       "      <td>200</td>\n",
       "      <td>0</td>\n",
       "      <td>1497</td>\n",
       "      <td>\"GET</td>\n",
       "      <td>https://paytm.com:443/shop/wallet/txnhistory?p...</td>\n",
       "      <td>0</td>\n",
       "    </tr>\n",
       "    <tr>\n",
       "      <th>2</th>\n",
       "      <td>2015-07-22 09:00:27.885745</td>\n",
       "      <td>marketpalce-shop</td>\n",
       "      <td>1.39.32.179</td>\n",
       "      <td>10.0.4.244:80</td>\n",
       "      <td>0.000024</td>\n",
       "      <td>0.164958</td>\n",
       "      <td>0.000017</td>\n",
       "      <td>200</td>\n",
       "      <td>200</td>\n",
       "      <td>0</td>\n",
       "      <td>157</td>\n",
       "      <td>\"GET</td>\n",
       "      <td>https://paytm.com:443/shop/wallet/txnhistory?p...</td>\n",
       "      <td>0</td>\n",
       "    </tr>\n",
       "    <tr>\n",
       "      <th>3</th>\n",
       "      <td>2015-07-22 09:00:28.048369</td>\n",
       "      <td>marketpalce-shop</td>\n",
       "      <td>180.179.213.94</td>\n",
       "      <td>10.0.6.108:80</td>\n",
       "      <td>0.000020</td>\n",
       "      <td>0.002333</td>\n",
       "      <td>0.000021</td>\n",
       "      <td>200</td>\n",
       "      <td>200</td>\n",
       "      <td>0</td>\n",
       "      <td>35734</td>\n",
       "      <td>\"GET</td>\n",
       "      <td>https://paytm.com:443/shop/p/micromax-yu-yurek...</td>\n",
       "      <td>0</td>\n",
       "    </tr>\n",
       "    <tr>\n",
       "      <th>4</th>\n",
       "      <td>2015-07-22 09:00:28.036251</td>\n",
       "      <td>marketpalce-shop</td>\n",
       "      <td>120.59.192.208</td>\n",
       "      <td>10.0.4.217:80</td>\n",
       "      <td>0.000024</td>\n",
       "      <td>0.015091</td>\n",
       "      <td>0.000016</td>\n",
       "      <td>200</td>\n",
       "      <td>200</td>\n",
       "      <td>68</td>\n",
       "      <td>640</td>\n",
       "      <td>\"POST</td>\n",
       "      <td>https://paytm.com:443/papi/v1/expresscart/verify</td>\n",
       "      <td>0</td>\n",
       "    </tr>\n",
       "  </tbody>\n",
       "</table>\n",
       "</div>"
      ],
      "text/plain": [
       "                   timestamp               elb      client_port  \\\n",
       "0 2015-07-22 09:00:28.019143  marketpalce-shop  123.242.248.130   \n",
       "1 2015-07-22 09:00:27.894580  marketpalce-shop    203.91.211.44   \n",
       "2 2015-07-22 09:00:27.885745  marketpalce-shop      1.39.32.179   \n",
       "3 2015-07-22 09:00:28.048369  marketpalce-shop   180.179.213.94   \n",
       "4 2015-07-22 09:00:28.036251  marketpalce-shop   120.59.192.208   \n",
       "\n",
       "    backend_port  request_processing_time  backend_processing_time  \\\n",
       "0  10.0.6.158:80                 0.000022                 0.026109   \n",
       "1  10.0.4.150:80                 0.000024                 0.153340   \n",
       "2  10.0.4.244:80                 0.000024                 0.164958   \n",
       "3  10.0.6.108:80                 0.000020                 0.002333   \n",
       "4  10.0.4.217:80                 0.000024                 0.015091   \n",
       "\n",
       "   response_processing_time  elb_status_code  backend_status_code  \\\n",
       "0                  0.000020              200                  200   \n",
       "1                  0.000026              200                  200   \n",
       "2                  0.000017              200                  200   \n",
       "3                  0.000021              200                  200   \n",
       "4                  0.000016              200                  200   \n",
       "\n",
       "   received_bytes  sent_bytes request_type  \\\n",
       "0               0         699         \"GET   \n",
       "1               0        1497         \"GET   \n",
       "2               0         157         \"GET   \n",
       "3               0       35734         \"GET   \n",
       "4              68         640        \"POST   \n",
       "\n",
       "                                         request_url  session_id  \n",
       "0  https://paytm.com:443/shop/authresponse?code=f...           0  \n",
       "1  https://paytm.com:443/shop/wallet/txnhistory?p...           0  \n",
       "2  https://paytm.com:443/shop/wallet/txnhistory?p...           0  \n",
       "3  https://paytm.com:443/shop/p/micromax-yu-yurek...           0  \n",
       "4   https://paytm.com:443/papi/v1/expresscart/verify           0  "
      ]
     },
     "execution_count": 47,
     "metadata": {},
     "output_type": "execute_result"
    }
   ],
   "source": [
    "import pandas as pd\n",
    "\n",
    "df_by_ip = df.groupby('client_port')\n",
    "\n",
    "#create session ids by comparing each timestamp to the next timestamp is series and seeing if greater than our alloted time have passed\n",
    "df['session_id'] = df_by_ip['timestamp'].apply(lambda x: (x - x.shift(1) > pd.Timedelta(\"15 min\")).cumsum())\n",
    "\n",
    "df.head()"
   ]
  },
  {
   "cell_type": "markdown",
   "metadata": {},
   "source": [
    "### Summary Statistics\n",
    "\n",
    "Now that it's all in a dataframe and sessionized, grabbing stats is straightforward using the typical Pythonic datascience pipeline."
   ]
  },
  {
   "cell_type": "code",
   "execution_count": 49,
   "metadata": {
    "collapsed": false
   },
   "outputs": [
    {
     "name": "stdout",
     "output_type": "stream",
     "text": [
      "average session time if we call a single call a 15 minute session 0 days 00:40:13.839997\n",
      "average session time if we call a single call a 0 minute session 0 days 00:27:38.654991\n"
     ]
    }
   ],
   "source": [
    "import numpy as np\n",
    "\n",
    "def sessionDuration(x):\n",
    "    duration = max(x) - min(x)\n",
    "    if duration < pd.Timedelta(\"15 min\"):\n",
    "        return pd.Timedelta(\"15 min\")\n",
    "    else:\n",
    "        return duration\n",
    "\n",
    "#assuming minimum session time of 15 minutes\n",
    "session_times = df.groupby(['client_port', 'session_id'])['timestamp'].apply(sessionDuration)\n",
    "print \"average session time if we call a single call a 15 minute session \" + str(np.mean(session_times))\n",
    "\n",
    "#assuming minimum session time of 0 minutes\n",
    "session_times = df.groupby(['client_port','session_id'])['timestamp'].apply(lambda x: max(x) - min(x))\n",
    "print \"average session time if we call a single call a 0 minute session \" + str(np.mean(session_times))\n"
   ]
  },
  {
   "cell_type": "code",
   "execution_count": 52,
   "metadata": {
    "collapsed": false
   },
   "outputs": [
    {
     "name": "stdout",
     "output_type": "stream",
     "text": [
      "our dataframe now contains a column that shows how many unique urls were hit in each session\n",
      "example: user with ip address 123.242.248.130 on there first session viewed 26 urls\n",
      "average number of urls hit per session : 454.51559085\n"
     ]
    }
   ],
   "source": [
    "df['session_urls'] = df.groupby(['client_port','session_id'])['request_url'].transform('nunique')\n",
    "\n",
    "print \"our dataframe now contains a column that shows how many unique urls were hit in each session\"\n",
    "print \"example: user with ip address 123.242.248.130 on there first session viewed \" + str(df[df['client_port'] == '123.242.248.130']['session_urls'][0]) + \" urls\" \n",
    "print \"average number of urls hit per session : \" + str( np.mean(df['session_urls']))"
   ]
  },
  {
   "cell_type": "code",
   "execution_count": 54,
   "metadata": {
    "collapsed": false
   },
   "outputs": [
    {
     "name": "stdout",
     "output_type": "stream",
     "text": [
      "user with the longest session (u'119.81.61.166', 2)\n",
      "longest session length 0 days 15:05:21.267258\n"
     ]
    }
   ],
   "source": [
    "print \"user with the longest session \" + str(session_times.idxmax())\n",
    "print \"longest session length \" + str(session_times.max())"
   ]
  },
  {
   "cell_type": "markdown",
   "metadata": {},
   "source": [
    "### Somethings not right here\n",
    "\n",
    "The longest session was 15 hours long?  My human intuition is tingling; that doesn't seem realistic.  Lets do another little poke around, as it seems like I haven't given a correct answer to the last question : \"Who is the most engaged user?\"\n",
    "\n",
    "Lets take a look at that user, and also the distribution of our session times."
   ]
  },
  {
   "cell_type": "code",
   "execution_count": 57,
   "metadata": {
    "collapsed": false
   },
   "outputs": [
    {
     "name": "stdout",
     "output_type": "stream",
     "text": [
      "                      timestamp               elb    client_port  \\\n",
      "439  2015-07-22 09:00:29.145692  marketpalce-shop  119.81.61.166   \n",
      "447  2015-07-22 09:00:29.162188  marketpalce-shop  119.81.61.166   \n",
      "734  2015-07-22 09:00:29.841644  marketpalce-shop  119.81.61.166   \n",
      "901  2015-07-22 09:00:30.177694  marketpalce-shop  119.81.61.166   \n",
      "1056 2015-07-22 09:00:30.546168  marketpalce-shop  119.81.61.166   \n",
      "\n",
      "       backend_port  request_processing_time  backend_processing_time  \\\n",
      "439   10.0.4.225:80                 0.000015                 0.019887   \n",
      "447   10.0.4.217:80                 0.000017                 0.014434   \n",
      "734   10.0.4.227:80                 0.000018                 0.007397   \n",
      "901   10.0.4.176:80                 0.000018                 0.007236   \n",
      "1056  10.0.4.150:80                 0.000021                 0.009572   \n",
      "\n",
      "      response_processing_time  elb_status_code  backend_status_code  \\\n",
      "439                   0.000020              200                  200   \n",
      "447                   0.000021              200                  200   \n",
      "734                   0.000020              200                  200   \n",
      "901                   0.000020              200                  200   \n",
      "1056                  0.000017              200                  200   \n",
      "\n",
      "      received_bytes  sent_bytes request_type  \\\n",
      "439                0         591         \"GET   \n",
      "447                0         596         \"GET   \n",
      "734                0          12         \"GET   \n",
      "901                0         572         \"GET   \n",
      "1056               0        1741         \"GET   \n",
      "\n",
      "                                            request_url  session_id  \\\n",
      "439   https://paytm.com:443/papi//v1/promosearch/pro...           0   \n",
      "447   https://paytm.com:443/papi//v1/promosearch/pro...           0   \n",
      "734   https://paytm.com:443/papi//v1/promosearch/pro...           0   \n",
      "901   https://paytm.com:443/papi//v1/promosearch/pro...           0   \n",
      "1056  https://paytm.com:443/papi//v1/promosearch/pro...           0   \n",
      "\n",
      "      session_urls  \n",
      "439            489  \n",
      "447            489  \n",
      "734            489  \n",
      "901            489  \n",
      "1056           489  \n"
     ]
    },
    {
     "data": {
      "image/png": "[encoded data removed]",
      "text/plain": [
       "<matplotlib.figure.Figure at 0x12c40e750>"
      ]
     },
     "metadata": {},
     "output_type": "display_data"
    }
   ],
   "source": [
    "print df[df['client_port'] == session_times.idxmax()[0]].head()\n",
    "\n",
    "%matplotlib inline\n",
    "plotable_session_times = session_times.apply(lambda x: x.seconds)\n",
    "plotable_session_times = plotable_session_times[plotable_session_times >1000] #most sessions are very quick, we want to view the higher ranges, so knock off the low session times for readability\n",
    "import matplotlib.pyplot as plt\n",
    "plt.hist(plotable_session_times, bins=range(1000,max(plotable_session_times),7000))\n",
    "plt.show()"
   ]
  },
  {
   "cell_type": "markdown",
   "metadata": {},
   "source": [
    "It looks like that user is just hammering 'promosearch' urls mulitple times per second.  I do believe he is some kind of bot or spider, and therefor not the most engaged user.\n",
    "\n",
    "There is a sharp dropoff around 30000 seconds mark, which is around 8 hours.  People using the site all day at work maybe?  The best way to sort the bots from the users would be a 'honeypot' page that only spiders would ever browse.  For the lack of one of those, I will just filter by what seems like a reasonable threshold of browsing for a person.  If we consider anybody past the 8 hour session mark to be more likely a robot than a person, our most engaged user would be:"
   ]
  },
  {
   "cell_type": "code",
   "execution_count": 64,
   "metadata": {
    "collapsed": false
   },
   "outputs": [
    {
     "name": "stdout",
     "output_type": "stream",
     "text": [
      "ip address of user with longest session time that does not exceed 30000 seconds : 155.136.184.7\n",
      "duration of max length session that doesn not exceed 30000 seconds : 489.6 minutes\n"
     ]
    },
    {
     "data": {
      "text/html": [
       "<div>\n",
       "<table border=\"1\" class=\"dataframe\">\n",
       "  <thead>\n",
       "    <tr style=\"text-align: right;\">\n",
       "      <th></th>\n",
       "      <th>timestamp</th>\n",
       "      <th>elb</th>\n",
       "      <th>client_port</th>\n",
       "      <th>backend_port</th>\n",
       "      <th>request_processing_time</th>\n",
       "      <th>backend_processing_time</th>\n",
       "      <th>response_processing_time</th>\n",
       "      <th>elb_status_code</th>\n",
       "      <th>backend_status_code</th>\n",
       "      <th>received_bytes</th>\n",
       "      <th>sent_bytes</th>\n",
       "      <th>request_type</th>\n",
       "      <th>request_url</th>\n",
       "      <th>session_id</th>\n",
       "      <th>session_urls</th>\n",
       "    </tr>\n",
       "  </thead>\n",
       "  <tbody>\n",
       "    <tr>\n",
       "      <th>34459</th>\n",
       "      <td>2015-07-22 09:01:55.637204</td>\n",
       "      <td>marketpalce-shop</td>\n",
       "      <td>155.136.184.7</td>\n",
       "      <td>10.0.4.227:80</td>\n",
       "      <td>0.000023</td>\n",
       "      <td>0.006250</td>\n",
       "      <td>0.000018</td>\n",
       "      <td>200</td>\n",
       "      <td>200</td>\n",
       "      <td>0</td>\n",
       "      <td>14194</td>\n",
       "      <td>\"GET</td>\n",
       "      <td>https://paytm.com:443/shop/p/pantaloons-blue-c...</td>\n",
       "      <td>0</td>\n",
       "      <td>5</td>\n",
       "    </tr>\n",
       "    <tr>\n",
       "      <th>35239</th>\n",
       "      <td>2015-07-22 09:01:58.108068</td>\n",
       "      <td>marketpalce-shop</td>\n",
       "      <td>155.136.184.7</td>\n",
       "      <td>10.0.6.158:80</td>\n",
       "      <td>0.000026</td>\n",
       "      <td>0.033645</td>\n",
       "      <td>0.000021</td>\n",
       "      <td>200</td>\n",
       "      <td>200</td>\n",
       "      <td>0</td>\n",
       "      <td>751</td>\n",
       "      <td>\"GET</td>\n",
       "      <td>https://paytm.com:443/shop/cart?channel=web&amp;ve...</td>\n",
       "      <td>0</td>\n",
       "      <td>5</td>\n",
       "    </tr>\n",
       "    <tr>\n",
       "      <th>35667</th>\n",
       "      <td>2015-07-22 09:01:59.265102</td>\n",
       "      <td>marketpalce-shop</td>\n",
       "      <td>155.136.184.7</td>\n",
       "      <td>10.0.4.227:80</td>\n",
       "      <td>0.000036</td>\n",
       "      <td>0.006161</td>\n",
       "      <td>0.000022</td>\n",
       "      <td>304</td>\n",
       "      <td>304</td>\n",
       "      <td>0</td>\n",
       "      <td>0</td>\n",
       "      <td>\"GET</td>\n",
       "      <td>https://paytm.com:443/papi/nps/merchantrating?...</td>\n",
       "      <td>0</td>\n",
       "      <td>5</td>\n",
       "    </tr>\n",
       "    <tr>\n",
       "      <th>35773</th>\n",
       "      <td>2015-07-22 09:01:59.599113</td>\n",
       "      <td>marketpalce-shop</td>\n",
       "      <td>155.136.184.7</td>\n",
       "      <td>10.0.6.178:80</td>\n",
       "      <td>0.000021</td>\n",
       "      <td>0.005349</td>\n",
       "      <td>0.000020</td>\n",
       "      <td>200</td>\n",
       "      <td>200</td>\n",
       "      <td>0</td>\n",
       "      <td>413</td>\n",
       "      <td>\"GET</td>\n",
       "      <td>https://paytm.com:443/papi/v1/promosearch/prod...</td>\n",
       "      <td>0</td>\n",
       "      <td>5</td>\n",
       "    </tr>\n",
       "    <tr>\n",
       "      <th>35824</th>\n",
       "      <td>2015-07-22 09:01:59.756876</td>\n",
       "      <td>marketpalce-shop</td>\n",
       "      <td>155.136.184.7</td>\n",
       "      <td>10.0.4.244:80</td>\n",
       "      <td>0.000021</td>\n",
       "      <td>0.008505</td>\n",
       "      <td>0.000015</td>\n",
       "      <td>200</td>\n",
       "      <td>200</td>\n",
       "      <td>0</td>\n",
       "      <td>72</td>\n",
       "      <td>\"GET</td>\n",
       "      <td>https://paytm.com:443/papi/rr/products/1422278...</td>\n",
       "      <td>0</td>\n",
       "      <td>5</td>\n",
       "    </tr>\n",
       "  </tbody>\n",
       "</table>\n",
       "</div>"
      ],
      "text/plain": [
       "                       timestamp               elb    client_port  \\\n",
       "34459 2015-07-22 09:01:55.637204  marketpalce-shop  155.136.184.7   \n",
       "35239 2015-07-22 09:01:58.108068  marketpalce-shop  155.136.184.7   \n",
       "35667 2015-07-22 09:01:59.265102  marketpalce-shop  155.136.184.7   \n",
       "35773 2015-07-22 09:01:59.599113  marketpalce-shop  155.136.184.7   \n",
       "35824 2015-07-22 09:01:59.756876  marketpalce-shop  155.136.184.7   \n",
       "\n",
       "        backend_port  request_processing_time  backend_processing_time  \\\n",
       "34459  10.0.4.227:80                 0.000023                 0.006250   \n",
       "35239  10.0.6.158:80                 0.000026                 0.033645   \n",
       "35667  10.0.4.227:80                 0.000036                 0.006161   \n",
       "35773  10.0.6.178:80                 0.000021                 0.005349   \n",
       "35824  10.0.4.244:80                 0.000021                 0.008505   \n",
       "\n",
       "       response_processing_time  elb_status_code  backend_status_code  \\\n",
       "34459                  0.000018              200                  200   \n",
       "35239                  0.000021              200                  200   \n",
       "35667                  0.000022              304                  304   \n",
       "35773                  0.000020              200                  200   \n",
       "35824                  0.000015              200                  200   \n",
       "\n",
       "       received_bytes  sent_bytes request_type  \\\n",
       "34459               0       14194         \"GET   \n",
       "35239               0         751         \"GET   \n",
       "35667               0           0         \"GET   \n",
       "35773               0         413         \"GET   \n",
       "35824               0          72         \"GET   \n",
       "\n",
       "                                             request_url  session_id  \\\n",
       "34459  https://paytm.com:443/shop/p/pantaloons-blue-c...           0   \n",
       "35239  https://paytm.com:443/shop/cart?channel=web&ve...           0   \n",
       "35667  https://paytm.com:443/papi/nps/merchantrating?...           0   \n",
       "35773  https://paytm.com:443/papi/v1/promosearch/prod...           0   \n",
       "35824  https://paytm.com:443/papi/rr/products/1422278...           0   \n",
       "\n",
       "       session_urls  \n",
       "34459             5  \n",
       "35239             5  \n",
       "35667             5  \n",
       "35773             5  \n",
       "35824             5  "
      ]
     },
     "execution_count": 64,
     "metadata": {},
     "output_type": "execute_result"
    }
   ],
   "source": [
    "human_session_times = plotable_session_times[plotable_session_times < 30000]\n",
    "print \"ip address of user with longest session time that does not exceed 30000 seconds : \"  + str(human_session_times.idxmax()[0])\n",
    "print \"duration of max length session that doesn not exceed 30000 seconds : \" + str(human_session_times.max() / 60.0) + \" minutes\"\n",
    "\n",
    "df[df['client_port'] == human_session_times.idxmax()[0]].head()"
   ]
  },
  {
   "cell_type": "markdown",
   "metadata": {},
   "source": [
    "Now we have geniunely found a very engaged user who used the site for 8 hours straight while shopping for pantaloons."
   ]
  }
 ],
 "metadata": {
  "anaconda-cloud": {},
  "kernelspec": {
   "display_name": "Python [conda root]",
   "language": "python",
   "name": "conda-root-py"
  }
 },
 "nbformat": 4,
 "nbformat_minor": 1
}
